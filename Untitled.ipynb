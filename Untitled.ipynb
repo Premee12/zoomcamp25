{
 "cells": [
  {
   "cell_type": "code",
   "execution_count": 3,
   "id": "b9a1ce00-d10b-48d7-abee-8c18cf30bc3c",
   "metadata": {},
   "outputs": [
    {
     "name": "stdout",
     "output_type": "stream",
     "text": [
      "Ayo!\n"
     ]
    }
   ],
   "source": [
    "print('Ayo!')"
   ]
  },
  {
   "cell_type": "code",
   "execution_count": null,
   "id": "167a815d-ee35-4abc-842e-51e0d2387330",
   "metadata": {},
   "outputs": [],
   "source": []
  }
 ],
 "metadata": {
  "kernelspec": {
   "display_name": "Python 3 (ipykernel)",
   "language": "python",
   "name": "python3"
  },
  "language_info": {
   "codemirror_mode": {
    "name": "ipython",
    "version": 3
   },
   "file_extension": ".py",
   "mimetype": "text/x-python",
   "name": "python",
   "nbconvert_exporter": "python",
   "pygments_lexer": "ipython3",
   "version": "3.12.1"
  }
 },
 "nbformat": 4,
 "nbformat_minor": 5
}
